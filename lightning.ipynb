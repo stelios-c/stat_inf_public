{
 "cells": [
  {
   "cell_type": "markdown",
   "id": "2e2cac73-5de5-48e8-b927-cd3b0f0e69e1",
   "metadata": {
    "editable": true,
    "slideshow": {
     "slide_type": "slide"
    },
    "tags": []
   },
   "source": [
    "# Lightning talk for PyData"
   ]
  },
  {
   "cell_type": "code",
   "execution_count": 1,
   "id": "7b958a11-a9a7-4cf5-b550-61a752d23ee6",
   "metadata": {
    "editable": true,
    "slideshow": {
     "slide_type": ""
    },
    "tags": []
   },
   "outputs": [
    {
     "name": "stdout",
     "output_type": "stream",
     "text": [
      "Fri Dec  8 22:58:03 UTC 2023\n"
     ]
    }
   ],
   "source": [
    "!date"
   ]
  },
  {
   "cell_type": "markdown",
   "id": "a9e001ac-90c0-43f6-8fe3-5faa15b9847f",
   "metadata": {
    "editable": true,
    "slideshow": {
     "slide_type": ""
    },
    "tags": []
   },
   "source": [
    "Stelios Christodoulou"
   ]
  },
  {
   "cell_type": "markdown",
   "id": "2a01d961-e357-4767-af50-935c8482ec96",
   "metadata": {
    "editable": true,
    "slideshow": {
     "slide_type": "slide"
    },
    "tags": []
   },
   "source": [
    "## slide 1"
   ]
  },
  {
   "cell_type": "code",
   "execution_count": 2,
   "id": "b214ea1d-8243-4663-bf58-2e53c3c20c07",
   "metadata": {
    "editable": true,
    "slideshow": {
     "slide_type": ""
    },
    "tags": []
   },
   "outputs": [],
   "source": [
    "import pandas as pd"
   ]
  },
  {
   "cell_type": "markdown",
   "id": "bb9f8c1b-4749-412e-ae5a-6d309dc7042e",
   "metadata": {
    "editable": true,
    "slideshow": {
     "slide_type": "slide"
    },
    "tags": []
   },
   "source": [
    "# slide 2"
   ]
  },
  {
   "cell_type": "markdown",
   "id": "1f5a1c68-0159-4619-8adb-a7845b75e8e5",
   "metadata": {
    "editable": true,
    "slideshow": {
     "slide_type": "notes"
    },
    "tags": []
   },
   "source": [
    "things to talk about"
   ]
  },
  {
   "cell_type": "code",
   "execution_count": null,
   "id": "82b4a68b-a5a7-43f6-bc4c-1e549506e37e",
   "metadata": {
    "editable": true,
    "slideshow": {
     "slide_type": ""
    },
    "tags": []
   },
   "outputs": [],
   "source": []
  }
 ],
 "metadata": {
  "kernelspec": {
   "display_name": "Python 3 (ipykernel)",
   "language": "python",
   "name": "python3"
  },
  "language_info": {
   "codemirror_mode": {
    "name": "ipython",
    "version": 3
   },
   "file_extension": ".py",
   "mimetype": "text/x-python",
   "name": "python",
   "nbconvert_exporter": "python",
   "pygments_lexer": "ipython3",
   "version": "3.10.13"
  },
  "toc": {
   "base_numbering": 0
  }
 },
 "nbformat": 4,
 "nbformat_minor": 5
}
