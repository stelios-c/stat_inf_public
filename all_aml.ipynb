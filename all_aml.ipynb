{
 "cells": [
  {
   "cell_type": "code",
   "execution_count": 1,
   "id": "b40732d8-5b14-43e3-a891-d3cab73208a8",
   "metadata": {
    "tags": []
   },
   "outputs": [],
   "source": [
    "import pandas as pd\n",
    "from scipy import stats#, optimize\n",
    "import math\n",
    "#import numpy as np\n",
    "#import statsmodels.api as sm"
   ]
  },
  {
   "cell_type": "markdown",
   "id": "dbd7e6fc-0ee2-404f-a55d-fae650174796",
   "metadata": {},
   "source": [
    "# Get data"
   ]
  },
  {
   "cell_type": "code",
   "execution_count": 2,
   "id": "8e3318a4-190f-4478-80b7-837278d1090c",
   "metadata": {
    "tags": []
   },
   "outputs": [],
   "source": [
    "leukemia_big=pd.read_csv(r'https://hastie.su.domains/CASI_files/DATA/leukemia_big.csv')#,sep=' '\n",
    "leukemia_small=pd.read_csv(r'https://hastie.su.domains/CASI_files/DATA/leukemia_small.csv')#,sep=' '"
   ]
  },
  {
   "cell_type": "code",
   "execution_count": 3,
   "id": "179d742c-3ab0-4863-8e8f-95a17a564197",
   "metadata": {},
   "outputs": [
    {
     "data": {
      "text/plain": [
       "(7128, 72)"
      ]
     },
     "execution_count": 3,
     "metadata": {},
     "output_type": "execute_result"
    }
   ],
   "source": [
    "leukemia_big.shape"
   ]
  },
  {
   "cell_type": "code",
   "execution_count": 4,
   "id": "056ad897-d967-4dc1-ba51-a0d03f5d38f1",
   "metadata": {},
   "outputs": [
    {
     "data": {
      "text/html": [
       "<div>\n",
       "<style scoped>\n",
       "    .dataframe tbody tr th:only-of-type {\n",
       "        vertical-align: middle;\n",
       "    }\n",
       "\n",
       "    .dataframe tbody tr th {\n",
       "        vertical-align: top;\n",
       "    }\n",
       "\n",
       "    .dataframe thead th {\n",
       "        text-align: right;\n",
       "    }\n",
       "</style>\n",
       "<table border=\"1\" class=\"dataframe\">\n",
       "  <thead>\n",
       "    <tr style=\"text-align: right;\">\n",
       "      <th></th>\n",
       "      <th>ALL</th>\n",
       "      <th>ALL.1</th>\n",
       "      <th>ALL.2</th>\n",
       "      <th>ALL.3</th>\n",
       "      <th>ALL.4</th>\n",
       "      <th>ALL.5</th>\n",
       "      <th>ALL.6</th>\n",
       "      <th>ALL.7</th>\n",
       "      <th>ALL.8</th>\n",
       "      <th>ALL.9</th>\n",
       "      <th>...</th>\n",
       "      <th>AML.15</th>\n",
       "      <th>AML.16</th>\n",
       "      <th>AML.17</th>\n",
       "      <th>AML.18</th>\n",
       "      <th>AML.19</th>\n",
       "      <th>AML.20</th>\n",
       "      <th>AML.21</th>\n",
       "      <th>AML.22</th>\n",
       "      <th>AML.23</th>\n",
       "      <th>AML.24</th>\n",
       "    </tr>\n",
       "  </thead>\n",
       "  <tbody>\n",
       "    <tr>\n",
       "      <th>0</th>\n",
       "      <td>-1.533622</td>\n",
       "      <td>-0.867610</td>\n",
       "      <td>-0.433172</td>\n",
       "      <td>-1.671903</td>\n",
       "      <td>-1.187689</td>\n",
       "      <td>-1.127234</td>\n",
       "      <td>-1.045409</td>\n",
       "      <td>-0.106917</td>\n",
       "      <td>-1.198796</td>\n",
       "      <td>-1.190899</td>\n",
       "      <td>...</td>\n",
       "      <td>-0.436650</td>\n",
       "      <td>-1.274708</td>\n",
       "      <td>-0.681458</td>\n",
       "      <td>-0.876610</td>\n",
       "      <td>-0.624022</td>\n",
       "      <td>-0.431628</td>\n",
       "      <td>-1.435259</td>\n",
       "      <td>-0.671954</td>\n",
       "      <td>-1.013161</td>\n",
       "      <td>-0.969482</td>\n",
       "    </tr>\n",
       "    <tr>\n",
       "      <th>1</th>\n",
       "      <td>-1.235673</td>\n",
       "      <td>-1.275501</td>\n",
       "      <td>-1.184492</td>\n",
       "      <td>-1.596424</td>\n",
       "      <td>-1.335256</td>\n",
       "      <td>-1.113730</td>\n",
       "      <td>-0.800880</td>\n",
       "      <td>-0.745177</td>\n",
       "      <td>-0.849312</td>\n",
       "      <td>-1.190899</td>\n",
       "      <td>...</td>\n",
       "      <td>-0.915483</td>\n",
       "      <td>-1.354363</td>\n",
       "      <td>-0.653559</td>\n",
       "      <td>-1.096250</td>\n",
       "      <td>-1.066594</td>\n",
       "      <td>-1.335256</td>\n",
       "      <td>-1.204586</td>\n",
       "      <td>-0.751457</td>\n",
       "      <td>-0.889592</td>\n",
       "      <td>-1.080988</td>\n",
       "    </tr>\n",
       "    <tr>\n",
       "      <th>2</th>\n",
       "      <td>-0.333983</td>\n",
       "      <td>0.375927</td>\n",
       "      <td>-0.459196</td>\n",
       "      <td>-1.422571</td>\n",
       "      <td>-0.797493</td>\n",
       "      <td>-1.362768</td>\n",
       "      <td>-0.671954</td>\n",
       "      <td>-1.175674</td>\n",
       "      <td>0.320813</td>\n",
       "      <td>0.646610</td>\n",
       "      <td>...</td>\n",
       "      <td>-0.736156</td>\n",
       "      <td>-0.022153</td>\n",
       "      <td>-0.037455</td>\n",
       "      <td>-0.567335</td>\n",
       "      <td>-1.100749</td>\n",
       "      <td>-0.552938</td>\n",
       "      <td>-0.948874</td>\n",
       "      <td>-0.231657</td>\n",
       "      <td>-0.742163</td>\n",
       "      <td>-0.779500</td>\n",
       "    </tr>\n",
       "    <tr>\n",
       "      <th>3</th>\n",
       "      <td>0.488702</td>\n",
       "      <td>0.444011</td>\n",
       "      <td>0.436264</td>\n",
       "      <td>0.193353</td>\n",
       "      <td>0.235632</td>\n",
       "      <td>-0.360312</td>\n",
       "      <td>0.184941</td>\n",
       "      <td>0.425653</td>\n",
       "      <td>0.333983</td>\n",
       "      <td>0.235270</td>\n",
       "      <td>...</td>\n",
       "      <td>0.083781</td>\n",
       "      <td>0.356562</td>\n",
       "      <td>0.416241</td>\n",
       "      <td>0.533986</td>\n",
       "      <td>0.227505</td>\n",
       "      <td>0.416816</td>\n",
       "      <td>0.408202</td>\n",
       "      <td>0.326556</td>\n",
       "      <td>0.361813</td>\n",
       "      <td>0.298864</td>\n",
       "    </tr>\n",
       "    <tr>\n",
       "      <th>4</th>\n",
       "      <td>-1.300893</td>\n",
       "      <td>-1.229660</td>\n",
       "      <td>-1.325882</td>\n",
       "      <td>-1.818329</td>\n",
       "      <td>-1.311206</td>\n",
       "      <td>-1.513975</td>\n",
       "      <td>-1.651624</td>\n",
       "      <td>-1.339555</td>\n",
       "      <td>-0.593132</td>\n",
       "      <td>0.133302</td>\n",
       "      <td>...</td>\n",
       "      <td>-1.547444</td>\n",
       "      <td>-1.264475</td>\n",
       "      <td>-1.512318</td>\n",
       "      <td>-1.469583</td>\n",
       "      <td>-1.283472</td>\n",
       "      <td>-0.977672</td>\n",
       "      <td>-1.090178</td>\n",
       "      <td>-1.545120</td>\n",
       "      <td>-1.174272</td>\n",
       "      <td>-1.443183</td>\n",
       "    </tr>\n",
       "  </tbody>\n",
       "</table>\n",
       "<p>5 rows × 72 columns</p>\n",
       "</div>"
      ],
      "text/plain": [
       "        ALL     ALL.1     ALL.2     ALL.3     ALL.4     ALL.5     ALL.6  \\\n",
       "0 -1.533622 -0.867610 -0.433172 -1.671903 -1.187689 -1.127234 -1.045409   \n",
       "1 -1.235673 -1.275501 -1.184492 -1.596424 -1.335256 -1.113730 -0.800880   \n",
       "2 -0.333983  0.375927 -0.459196 -1.422571 -0.797493 -1.362768 -0.671954   \n",
       "3  0.488702  0.444011  0.436264  0.193353  0.235632 -0.360312  0.184941   \n",
       "4 -1.300893 -1.229660 -1.325882 -1.818329 -1.311206 -1.513975 -1.651624   \n",
       "\n",
       "      ALL.7     ALL.8     ALL.9  ...    AML.15    AML.16    AML.17    AML.18  \\\n",
       "0 -0.106917 -1.198796 -1.190899  ... -0.436650 -1.274708 -0.681458 -0.876610   \n",
       "1 -0.745177 -0.849312 -1.190899  ... -0.915483 -1.354363 -0.653559 -1.096250   \n",
       "2 -1.175674  0.320813  0.646610  ... -0.736156 -0.022153 -0.037455 -0.567335   \n",
       "3  0.425653  0.333983  0.235270  ...  0.083781  0.356562  0.416241  0.533986   \n",
       "4 -1.339555 -0.593132  0.133302  ... -1.547444 -1.264475 -1.512318 -1.469583   \n",
       "\n",
       "     AML.19    AML.20    AML.21    AML.22    AML.23    AML.24  \n",
       "0 -0.624022 -0.431628 -1.435259 -0.671954 -1.013161 -0.969482  \n",
       "1 -1.066594 -1.335256 -1.204586 -0.751457 -0.889592 -1.080988  \n",
       "2 -1.100749 -0.552938 -0.948874 -0.231657 -0.742163 -0.779500  \n",
       "3  0.227505  0.416816  0.408202  0.326556  0.361813  0.298864  \n",
       "4 -1.283472 -0.977672 -1.090178 -1.545120 -1.174272 -1.443183  \n",
       "\n",
       "[5 rows x 72 columns]"
      ]
     },
     "execution_count": 4,
     "metadata": {},
     "output_type": "execute_result"
    }
   ],
   "source": [
    "leukemia_big.head()"
   ]
  },
  {
   "cell_type": "markdown",
   "id": "06af403e-17cf-4dde-9c79-39765835429d",
   "metadata": {},
   "source": [
    "starts from 0 so gene 136 is row 135"
   ]
  },
  {
   "cell_type": "code",
   "execution_count": 5,
   "id": "fca534b5-952e-4a8e-b2f3-954eca224e09",
   "metadata": {},
   "outputs": [],
   "source": [
    "gene_136=leukemia_big.iloc[135].T.reset_index()"
   ]
  },
  {
   "cell_type": "code",
   "execution_count": 6,
   "id": "91cd8e27-fdd9-49f9-8264-d1cea16eaaf3",
   "metadata": {},
   "outputs": [
    {
     "data": {
      "text/plain": [
       "(72, 2)"
      ]
     },
     "execution_count": 6,
     "metadata": {},
     "output_type": "execute_result"
    }
   ],
   "source": [
    "gene_136.shape"
   ]
  },
  {
   "cell_type": "code",
   "execution_count": 7,
   "id": "c608fc48-8efb-41fe-8199-7d4d9c028fd2",
   "metadata": {},
   "outputs": [],
   "source": [
    "gene_136['disease']=gene_136['index'].str.split('.',expand=True)[0]"
   ]
  },
  {
   "cell_type": "markdown",
   "id": "a20475bd-d7f8-4140-9ae4-50a9985f3591",
   "metadata": {},
   "source": [
    "# Histograms"
   ]
  },
  {
   "cell_type": "code",
   "execution_count": 8,
   "id": "a3128c1c-95ea-4a8c-9901-8e6eb37f0c11",
   "metadata": {},
   "outputs": [
    {
     "data": {
      "text/plain": [
       "<Axes: >"
      ]
     },
     "execution_count": 8,
     "metadata": {},
     "output_type": "execute_result"
    },
    {
     "data": {
      "image/png": "[encoded data removed]",
      "text/plain": [
       "<Figure size 640x480 with 1 Axes>"
      ]
     },
     "metadata": {},
     "output_type": "display_data"
    }
   ],
   "source": [
    "gene_136[gene_136.disease=='ALL'][135].hist()"
   ]
  },
  {
   "cell_type": "code",
   "execution_count": 36,
   "id": "453314df-b7b9-4935-853d-5d44af34cb38",
   "metadata": {},
   "outputs": [
    {
     "data": {
      "text/plain": [
       "0.7524793960638297"
      ]
     },
     "execution_count": 36,
     "metadata": {},
     "output_type": "execute_result"
    }
   ],
   "source": [
    "mu_ALL=gene_136[gene_136.disease=='ALL'][135].mean()\n",
    "mu_ALL"
   ]
  },
  {
   "cell_type": "code",
   "execution_count": 27,
   "id": "9e2c86c5-c034-43eb-87f7-d6efc557dd45",
   "metadata": {},
   "outputs": [],
   "source": [
    "s_ALL=gene_136[gene_136.disease=='ALL'][135].std()"
   ]
  },
  {
   "cell_type": "code",
   "execution_count": 28,
   "id": "51535108-4e87-4016-9ed9-b43e8766a7f0",
   "metadata": {},
   "outputs": [],
   "source": [
    "n_ALL=gene_136[gene_136.disease=='ALL'][135].count()"
   ]
  },
  {
   "cell_type": "code",
   "execution_count": 10,
   "id": "0b40d990-7cb2-4b80-a8ba-b8deb16db5a8",
   "metadata": {},
   "outputs": [
    {
     "data": {
      "text/plain": [
       "<Axes: >"
      ]
     },
     "execution_count": 10,
     "metadata": {},
     "output_type": "execute_result"
    },
    {
     "data": {
      "image/png": "[encoded data removed]",
      "text/plain": [
       "<Figure size 640x480 with 1 Axes>"
      ]
     },
     "metadata": {},
     "output_type": "display_data"
    }
   ],
   "source": [
    "gene_136[gene_136.disease=='AML'][135].hist()"
   ]
  },
  {
   "cell_type": "code",
   "execution_count": 37,
   "id": "9133d3af-6109-453e-8ebb-4b3f362c0236",
   "metadata": {},
   "outputs": [
    {
     "data": {
      "text/plain": [
       "0.94997308076"
      ]
     },
     "execution_count": 37,
     "metadata": {},
     "output_type": "execute_result"
    }
   ],
   "source": [
    "mu_AML=gene_136[gene_136.disease=='AML'][135].mean()\n",
    "mu_AML"
   ]
  },
  {
   "cell_type": "code",
   "execution_count": 38,
   "id": "87227a29-b218-4207-a982-5c3cafdeac03",
   "metadata": {},
   "outputs": [],
   "source": [
    "s_AML=gene_136[gene_136.disease=='AML'][135].std()"
   ]
  },
  {
   "cell_type": "code",
   "execution_count": 39,
   "id": "8f85a892-66b9-42af-b4dc-da41473519f7",
   "metadata": {},
   "outputs": [],
   "source": [
    "n_AML=gene_136[gene_136.disease=='AML'][135].count()"
   ]
  },
  {
   "cell_type": "markdown",
   "id": "45ee4021-2dc4-4448-885c-c5292c1e503b",
   "metadata": {},
   "source": [
    "# T test"
   ]
  },
  {
   "cell_type": "code",
   "execution_count": 40,
   "id": "50b8d339-d9ed-4457-9e43-dd66b2752168",
   "metadata": {},
   "outputs": [
    {
     "data": {
      "text/plain": [
       "TtestResult(statistic=3.0140025758673397, pvalue=0.0035885675237623082, df=70.0)"
      ]
     },
     "execution_count": 40,
     "metadata": {},
     "output_type": "execute_result"
    }
   ],
   "source": [
    "stats.ttest_ind(gene_136[gene_136.disease=='AML'][135],gene_136[gene_136.disease=='ALL'][135])"
   ]
  },
  {
   "cell_type": "code",
   "execution_count": 41,
   "id": "1d81693e-c6c2-4f6c-a37b-f663325e62db",
   "metadata": {},
   "outputs": [],
   "source": [
    "s_p_2=((s_ALL**2)*(n_ALL-1)+(s_AML**2)*(n_AML-1))/(n_ALL+n_AML-2)"
   ]
  },
  {
   "cell_type": "code",
   "execution_count": 42,
   "id": "6a3e1fe6-b5be-4415-8703-1b2d59a04188",
   "metadata": {},
   "outputs": [
    {
     "data": {
      "text/plain": [
       "3.0140025758673397"
      ]
     },
     "execution_count": 42,
     "metadata": {},
     "output_type": "execute_result"
    }
   ],
   "source": [
    "(mu_AML- mu_ALL)/math.sqrt(s_p_2*((1/n_AML)+(1/n_ALL)))"
   ]
  },
  {
   "cell_type": "markdown",
   "id": "5ae96542-0427-48b8-9480-fef97f258faa",
   "metadata": {},
   "source": [
    "Formula not given in chapter 1 of CASI, therefore I looked it up in Essentials of Business Statistics."
   ]
  },
  {
   "cell_type": "code",
   "execution_count": null,
   "id": "dd1a99a9-4841-4ed7-9bb4-59eba55d9163",
   "metadata": {},
   "outputs": [],
   "source": []
  }
 ],
 "metadata": {
  "kernelspec": {
   "display_name": "Python 3 (ipykernel)",
   "language": "python",
   "name": "python3"
  },
  "language_info": {
   "codemirror_mode": {
    "name": "ipython",
    "version": 3
   },
   "file_extension": ".py",
   "mimetype": "text/x-python",
   "name": "python",
   "nbconvert_exporter": "python",
   "pygments_lexer": "ipython3",
   "version": "3.10.13"
  }
 },
 "nbformat": 4,
 "nbformat_minor": 5
}
